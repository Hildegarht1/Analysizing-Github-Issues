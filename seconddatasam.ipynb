{
 "cells": [
  {
   "cell_type": "code",
   "execution_count": 2,
   "metadata": {},
   "outputs": [],
   "source": [
    "import pandas as pd\n",
    "df = pd.read_csv('sample2.csv.gz')"
   ]
  },
  {
   "cell_type": "code",
   "execution_count": 3,
   "metadata": {},
   "outputs": [
    {
     "name": "stdout",
     "output_type": "stream",
     "text": [
      "                                           issue_url issue_label  \\\n",
      "0  https://api.github.com/repos/aFarkas/lazysizes...         bug   \n",
      "1  https://api.github.com/repos/bcgov/entity/issu...         bug   \n",
      "2  https://api.github.com/repos/WPI-LNL/lnldb/iss...         bug   \n",
      "3  https://api.github.com/repos/hsnavarro/rogueso...         bug   \n",
      "4  https://api.github.com/repos/coppolaemilio/dia...         bug   \n",
      "\n",
      "       issue_created_at issue_author_association  \\\n",
      "0  2021-01-07T13:45:06Z                     NONE   \n",
      "1  2021-01-14T19:28:07Z             COLLABORATOR   \n",
      "2  2021-02-25T23:20:08Z                     NONE   \n",
      "3  2021-03-11T08:22:02Z             COLLABORATOR   \n",
      "4  2021-05-08T13:14:14Z                     NONE   \n",
      "\n",
      "                                      repository_url  \\\n",
      "0     https://api.github.com/repos/aFarkas/lazysizes   \n",
      "1          https://api.github.com/repos/bcgov/entity   \n",
      "2         https://api.github.com/repos/WPI-LNL/lnldb   \n",
      "3  https://api.github.com/repos/hsnavarro/rogueso...   \n",
      "4  https://api.github.com/repos/coppolaemilio/dia...   \n",
      "\n",
      "                                         issue_title  \\\n",
      "0  Url of images in srcset having whitespace on S...   \n",
      "1  Unable to get the Numbered company when a prem...   \n",
      "2                     PIT Request email exposed HTML   \n",
      "3   Remover movimento do personagem durante o ataque   \n",
      "4  Background Music event sometimes not working w...   \n",
      "\n",
      "                                          issue_body  \n",
      "0  When image url is inspected in Safari and is h...  \n",
      "1  **Describe the bug in current situation**\\nWhe...  \n",
      "2  The latest email I received for a PIT request ...  \n",
      "3                                                NaN  \n",
      "4  ## The problem\\r\\n\\r\\n**Describe the bug**\\r\\n...  \n"
     ]
    }
   ],
   "source": [
    "print(df.head())  # View the first few rows\n"
   ]
  },
  {
   "cell_type": "code",
   "execution_count": 4,
   "metadata": {},
   "outputs": [
    {
     "name": "stdout",
     "output_type": "stream",
     "text": [
      "                                               issue_url issue_label  \\\n",
      "65056  https://api.github.com/repos/pmazz/ps_hassio_e...    question   \n",
      "65057  https://api.github.com/repos/miguelgrinberg/Fl...    question   \n",
      "65058  https://api.github.com/repos/bwssytems/ha-brid...    question   \n",
      "65059  https://api.github.com/repos/tiangolo/fastapi/...    question   \n",
      "65060  https://api.github.com/repos/awslabs/amazon-ki...    question   \n",
      "\n",
      "           issue_created_at issue_author_association  \\\n",
      "65056  2021-04-21T12:03:07Z                     NONE   \n",
      "65057  2021-01-09T19:53:57Z                     NONE   \n",
      "65058  2021-03-11T15:21:12Z                     NONE   \n",
      "65059  2021-01-28T04:22:05Z                     NONE   \n",
      "65060  2021-02-24T01:01:55Z                     NONE   \n",
      "\n",
      "                                          repository_url  \\\n",
      "65056  https://api.github.com/repos/pmazz/ps_hassio_e...   \n",
      "65057  https://api.github.com/repos/miguelgrinberg/Fl...   \n",
      "65058   https://api.github.com/repos/bwssytems/ha-bridge   \n",
      "65059      https://api.github.com/repos/tiangolo/fastapi   \n",
      "65060  https://api.github.com/repos/awslabs/amazon-ki...   \n",
      "\n",
      "                                             issue_title  \\\n",
      "65056          set attribute for another entity id state   \n",
      "65057  Emitting from background task exhibits odd beh...   \n",
      "65058         Unable to discover homeassistant's device？   \n",
      "65059  How to export Swagger to Yaml when accessed wi...   \n",
      "65060           [QUESTION] Required Linux kernel configs   \n",
      "\n",
      "                                              issue_body  \n",
      "65056  How would i set the attribute of en entity fro...  \n",
      "65057  **Describe the bug**\\r\\nWhen emitting from a b...  \n",
      "65058  ![image](https://user-images.githubusercontent...  \n",
      "65059  Hello.\\r\\n\\r\\nAs the title says, I always want...  \n",
      "65060  I'm porting the sample ``kvsWebrtcClientMaster...  \n"
     ]
    }
   ],
   "source": [
    "print(df.tail())  # View the last few rows"
   ]
  },
  {
   "cell_type": "code",
   "execution_count": 5,
   "metadata": {},
   "outputs": [
    {
     "name": "stdout",
     "output_type": "stream",
     "text": [
      "<class 'pandas.core.frame.DataFrame'>\n",
      "RangeIndex: 65061 entries, 0 to 65060\n",
      "Data columns (total 7 columns):\n",
      " #   Column                    Non-Null Count  Dtype \n",
      "---  ------                    --------------  ----- \n",
      " 0   issue_url                 65061 non-null  object\n",
      " 1   issue_label               65061 non-null  object\n",
      " 2   issue_created_at          65061 non-null  object\n",
      " 3   issue_author_association  65061 non-null  object\n",
      " 4   repository_url            65061 non-null  object\n",
      " 5   issue_title               65061 non-null  object\n",
      " 6   issue_body                58562 non-null  object\n",
      "dtypes: object(7)\n",
      "memory usage: 3.5+ MB\n",
      "None\n"
     ]
    }
   ],
   "source": [
    "print(df.info())  # Get information about the columns"
   ]
  },
  {
   "cell_type": "code",
   "execution_count": 6,
   "metadata": {},
   "outputs": [
    {
     "name": "stdout",
     "output_type": "stream",
     "text": [
      "                                                issue_url issue_label  \\\n",
      "count                                               65061       65061   \n",
      "unique                                              64807           3   \n",
      "top     https://api.github.com/repos/iftg7n/Test/issues/1         bug   \n",
      "freq                                                    6       32499   \n",
      "\n",
      "            issue_created_at issue_author_association  \\\n",
      "count                  65061                    65061   \n",
      "unique                 64740                        5   \n",
      "top     2019-11-08T05:12:13Z                     NONE   \n",
      "freq                       5                    24496   \n",
      "\n",
      "                                     repository_url  \\\n",
      "count                                         65061   \n",
      "unique                                        32851   \n",
      "top     https://api.github.com/repos/libsdl-org/SDL   \n",
      "freq                                            271   \n",
      "\n",
      "                        issue_title issue_body  \n",
      "count                         65061      58562  \n",
      "unique                        63488      57462  \n",
      "top     Getting Started with GitHub        TBD  \n",
      "freq                             43        204  \n"
     ]
    }
   ],
   "source": [
    "print(df.describe())  # View summary statistics"
   ]
  },
  {
   "cell_type": "code",
   "execution_count": 7,
   "metadata": {},
   "outputs": [
    {
     "name": "stdout",
     "output_type": "stream",
     "text": [
      "issue_url                      0\n",
      "issue_label                    0\n",
      "issue_created_at               0\n",
      "issue_author_association       0\n",
      "repository_url                 0\n",
      "issue_title                    0\n",
      "issue_body                  6499\n",
      "dtype: int64\n"
     ]
    }
   ],
   "source": [
    "print(df.isnull().sum())"
   ]
  },
  {
   "cell_type": "code",
   "execution_count": 8,
   "metadata": {},
   "outputs": [
    {
     "name": "stdout",
     "output_type": "stream",
     "text": [
      "issue_label\n",
      "bug            32499\n",
      "enhancement    26944\n",
      "question        5618\n",
      "Name: count, dtype: int64\n"
     ]
    }
   ],
   "source": [
    "print(df['issue_label'].value_counts())"
   ]
  },
  {
   "cell_type": "code",
   "execution_count": 9,
   "metadata": {},
   "outputs": [
    {
     "name": "stdout",
     "output_type": "stream",
     "text": [
      "      issue_label                                     repository_url  count\n",
      "0             bug              https://api.github.com/repos/030/n3dr      3\n",
      "1             bug  https://api.github.com/repos/0Blockaye0/robots...      1\n",
      "2             bug         https://api.github.com/repos/0chain/0chain      4\n",
      "3             bug        https://api.github.com/repos/0chain/blobber      1\n",
      "4             bug  https://api.github.com/repos/0x213F/jukebox-ra...      1\n",
      "...           ...                                                ...    ...\n",
      "38583    question  https://api.github.com/repos/zowe/vscode-exten...      2\n",
      "38584    question  https://api.github.com/repos/zwave-js/zwavejs2...      2\n",
      "38585    question      https://api.github.com/repos/zxing-js/browser      1\n",
      "38586    question  https://api.github.com/repos/zynthian/zynthian...      1\n",
      "38587    question  https://api.github.com/repos/zzzprojects/Syste...      1\n",
      "\n",
      "[38588 rows x 3 columns]\n"
     ]
    }
   ],
   "source": [
    "# Group by issue label and repository URL, count the number of issues\n",
    "print(df.groupby(['issue_label', 'repository_url']).size().reset_index(name='count'))"
   ]
  },
  {
   "cell_type": "code",
   "execution_count": 10,
   "metadata": {},
   "outputs": [
    {
     "name": "stdout",
     "output_type": "stream",
     "text": [
      "0        Url of images in srcset having whitespace on S...\n",
      "1        Unable to get the Numbered company when a prem...\n",
      "2                           PIT Request email exposed HTML\n",
      "3         Remover movimento do personagem durante o ataque\n",
      "4        Background Music event sometimes not working w...\n",
      "                               ...                        \n",
      "32494    [BUG] Sync between about time and simple calendar\n",
      "32495          Stale user data doesn't clear from the host\n",
      "32496              Area construida no aparece en Plano ANT\n",
      "32497                    Faulty LSB handling in doppler.py\n",
      "32498    Market: List of tokens in categories does not ...\n",
      "Name: issue_title, Length: 32499, dtype: object\n"
     ]
    }
   ],
   "source": [
    "# Filter issues by a specific label and inspect the titles/bodies\n",
    "print(df[df['issue_label'] == 'bug']['issue_title'])"
   ]
  },
  {
   "cell_type": "code",
   "execution_count": 11,
   "metadata": {},
   "outputs": [
    {
     "name": "stdout",
     "output_type": "stream",
     "text": [
      "0        When image url is inspected in Safari and is h...\n",
      "1        **Describe the bug in current situation**\\nWhe...\n",
      "2        The latest email I received for a PIT request ...\n",
      "3                                                      NaN\n",
      "4        ## The problem\\r\\n\\r\\n**Describe the bug**\\r\\n...\n",
      "                               ...                        \n",
      "32494    Hi :)\\r\\n\\r\\nWhenever I move time forward from...\n",
      "32495                                                  NaN\n",
      "32496    Buenas tardes, \\r\\n\\r\\nCuando se van a crear g...\n",
      "32497    The output of `ch_speed` isn't inverted when p...\n",
      "32498    probably due to the fact that some tokens have...\n",
      "Name: issue_body, Length: 32499, dtype: object\n"
     ]
    }
   ],
   "source": [
    "print(df[df['issue_label'] == 'bug']['issue_body'])"
   ]
  },
  {
   "cell_type": "code",
   "execution_count": 12,
   "metadata": {},
   "outputs": [
    {
     "data": {
      "image/png": "[encoded data removed]",
      "text/plain": [
       "<Figure size 640x480 with 1 Axes>"
      ]
     },
     "metadata": {},
     "output_type": "display_data"
    }
   ],
   "source": [
    "import matplotlib.pyplot as plt\n",
    "\n",
    "# Plot a bar chart of issue label frequencies\n",
    "df['issue_label'].value_counts().plot(kind='bar')\n",
    "plt.show()"
   ]
  }
 ],
 "metadata": {
  "kernelspec": {
   "display_name": "Python 3",
   "language": "python",
   "name": "python3"
  },
  "language_info": {
   "codemirror_mode": {
    "name": "ipython",
    "version": 3
   },
   "file_extension": ".py",
   "mimetype": "text/x-python",
   "name": "python",
   "nbconvert_exporter": "python",
   "pygments_lexer": "ipython3",
   "version": "3.13.0"
  }
 },
 "nbformat": 4,
 "nbformat_minor": 2
}
